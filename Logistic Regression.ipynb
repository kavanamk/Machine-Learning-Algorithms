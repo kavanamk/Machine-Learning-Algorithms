{
 "cells": [
  {
   "cell_type": "markdown",
   "id": "3663dc11-f938-45f0-b745-60162ea8200a",
   "metadata": {},
   "source": [
    "# Logistic Regression on Iris Dataset"
   ]
  },
  {
   "cell_type": "code",
   "execution_count": 18,
   "id": "03273267-ba62-46dd-8979-97005665489f",
   "metadata": {},
   "outputs": [
    {
     "name": "stderr",
     "output_type": "stream",
     "text": [
      "/opt/anaconda3/lib/python3.12/site-packages/sklearn/linear_model/_logistic.py:465: ConvergenceWarning: lbfgs failed to converge (status=1):\n",
      "STOP: TOTAL NO. of ITERATIONS REACHED LIMIT.\n",
      "\n",
      "Increase the number of iterations (max_iter) or scale the data as shown in:\n",
      "    https://scikit-learn.org/stable/modules/preprocessing.html\n",
      "Please also refer to the documentation for alternative solver options:\n",
      "    https://scikit-learn.org/stable/modules/linear_model.html#logistic-regression\n",
      "  n_iter_i = _check_optimize_result(\n"
     ]
    }
   ],
   "source": [
    "from sklearn.datasets import load_iris\n",
    "from sklearn.linear_model import LogisticRegression\n",
    "X, y = load_iris(return_X_y=True)\n",
    "clf = LogisticRegression(random_state=0).fit(X, y)"
   ]
  },
  {
   "cell_type": "markdown",
   "id": "4409c5f8-6b85-4040-9346-77b0bcf443f6",
   "metadata": {},
   "source": [
    "## Logistic Regression with the Iris Dataset\n",
    "\n",
    "In this example, we demonstrate how to use **Logistic Regression** from `scikit-learn` to classify flower species using the famous **Iris dataset**.\n",
    "\n",
    "---\n",
    "\n",
    "### **1. What is the Iris dataset?**\n",
    "\n",
    "The **Iris dataset** is a classic dataset in machine learning, introduced by the statistician Ronald Fisher in 1936.  \n",
    "It contains **150 samples** of iris flowers, each with **four features**:\n",
    "\n",
    "1. **Sepal length** (cm)\n",
    "2. **Sepal width** (cm)\n",
    "3. **Petal length** (cm)\n",
    "4. **Petal width** (cm)\n",
    "\n",
    "The target (`y`) is the species of iris:\n",
    "- `0` = Setosa  \n",
    "- `1` = Versicolor  \n",
    "- `2` = Virginica\n",
    "\n",
    "---\n",
    "\n"
   ]
  },
  {
   "cell_type": "code",
   "execution_count": 20,
   "id": "a578b039-0d03-4340-b855-0a876d8b0e60",
   "metadata": {},
   "outputs": [
    {
     "data": {
      "text/plain": [
       "array([0, 0])"
      ]
     },
     "execution_count": 20,
     "metadata": {},
     "output_type": "execute_result"
    }
   ],
   "source": [
    "clf.predict(X[:2, :])\n"
   ]
  },
  {
   "cell_type": "code",
   "execution_count": 22,
   "id": "8e044e9c-1c1f-480b-b344-a8df9b9de352",
   "metadata": {},
   "outputs": [
    {
     "data": {
      "text/plain": [
       "array([[9.81792299e-01, 1.82076863e-02, 1.44255388e-08],\n",
       "       [9.71717079e-01, 2.82828911e-02, 3.01617899e-08]])"
      ]
     },
     "execution_count": 22,
     "metadata": {},
     "output_type": "execute_result"
    }
   ],
   "source": [
    "clf.predict_proba(X[:2, :])\n"
   ]
  },
  {
   "cell_type": "code",
   "execution_count": 24,
   "id": "0c952307-1da3-4232-a5ac-aafadf3cc68b",
   "metadata": {},
   "outputs": [
    {
     "data": {
      "text/plain": [
       "0.9733333333333334"
      ]
     },
     "execution_count": 24,
     "metadata": {},
     "output_type": "execute_result"
    }
   ],
   "source": [
    "clf.score(X, y)"
   ]
  }
 ],
 "metadata": {
  "kernelspec": {
   "display_name": "Python 3 (ipykernel)",
   "language": "python",
   "name": "python3"
  },
  "language_info": {
   "codemirror_mode": {
    "name": "ipython",
    "version": 3
   },
   "file_extension": ".py",
   "mimetype": "text/x-python",
   "name": "python",
   "nbconvert_exporter": "python",
   "pygments_lexer": "ipython3",
   "version": "3.12.4"
  }
 },
 "nbformat": 4,
 "nbformat_minor": 5
}
