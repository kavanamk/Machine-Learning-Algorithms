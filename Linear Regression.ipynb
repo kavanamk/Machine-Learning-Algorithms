{
 "cells": [
  {
   "cell_type": "markdown",
   "id": "4d0faf6c-55dc-42f5-9105-452e61ecb3ad",
   "metadata": {},
   "source": [
    "## Linear Regression Example in Python\n",
    "\n",
    "In this example, we use `scikit-learn`’s **LinearRegression** to fit a simple model.\n",
    "\n",
    "---\n",
    "\n",
    "### **1. Importing Libraries**\n",
    "```python\n",
    "import numpy as np\n",
    "from sklearn.linear_model import LinearRegression\n"
   ]
  },
  {
   "cell_type": "code",
   "execution_count": 4,
   "id": "3ce6e004-5c48-4453-a36c-ce09b53204d4",
   "metadata": {},
   "outputs": [],
   "source": [
    "import numpy as np\n",
    "from sklearn.linear_model import LinearRegression\n"
   ]
  },
  {
   "cell_type": "code",
   "execution_count": 5,
   "id": "a424e88a-d59a-4730-b57a-060b41d1303b",
   "metadata": {},
   "outputs": [],
   "source": [
    "X = np.array([[1, 1],\n",
    "              [1, 2],\n",
    "              [2, 2],\n",
    "              [2, 3]])\n"
   ]
  },
  {
   "cell_type": "markdown",
   "id": "46a43401-069f-4a25-8c7e-f396f9305b11",
   "metadata": {},
   "source": [
    "X is our feature matrix (4 samples × 2 features).\n",
    "\n",
    "Each row is one observation, each column is a feature."
   ]
  },
  {
   "cell_type": "code",
   "execution_count": 9,
   "id": "1434d65b-f4fb-401e-8c02-3d5763621fc3",
   "metadata": {},
   "outputs": [],
   "source": [
    "# y = 1 * x0 + 2 * x1 + 3\n",
    "y = np.dot(X, np.array([1, 2])) + 3\n"
   ]
  },
  {
   "cell_type": "markdown",
   "id": "27b7f9f3-b049-4d95-8681-11534012a1a1",
   "metadata": {},
   "source": [
    "We generate the target (y) using a known equation:\n",
    "\n",
    "y = 1 . x0 + 2. x1 +3\n",
    "\n",
    "np.dot(X, np.array([1, 2])) multiplies each row of X by the coefficients [1, 2].\n",
    "\n",
    "We then add 3 (the intercept)."
   ]
  },
  {
   "cell_type": "code",
   "execution_count": 12,
   "id": "f9c77e64-4668-43a8-9606-b7e29a1a0bb4",
   "metadata": {},
   "outputs": [],
   "source": [
    "reg = LinearRegression().fit(X, y)"
   ]
  },
  {
   "cell_type": "markdown",
   "id": "bfc45298-9d72-46fe-9458-3cb83e60b8d1",
   "metadata": {},
   "source": [
    "Creates a LinearRegression model and fits it to X and y.\n",
    "\n",
    "The model will learn:\n",
    "\n",
    "Coefficients (weights for each feature)\n",
    "\n",
    "Intercept (bias term)\n",
    "\n"
   ]
  },
  {
   "cell_type": "code",
   "execution_count": 19,
   "id": "5eb916e1-403a-4600-bd11-030c744dd105",
   "metadata": {},
   "outputs": [
    {
     "data": {
      "text/plain": [
       "1.0"
      ]
     },
     "execution_count": 19,
     "metadata": {},
     "output_type": "execute_result"
    }
   ],
   "source": [
    "reg.score(X, y) # accuracy\n"
   ]
  },
  {
   "cell_type": "code",
   "execution_count": 21,
   "id": "3a0a3067-6aa1-47cf-a085-a0e213f3f05b",
   "metadata": {},
   "outputs": [
    {
     "data": {
      "text/plain": [
       "3.0000000000000018"
      ]
     },
     "execution_count": 21,
     "metadata": {},
     "output_type": "execute_result"
    }
   ],
   "source": [
    "reg.intercept_\n"
   ]
  },
  {
   "cell_type": "code",
   "execution_count": 23,
   "id": "0c2525fc-2741-4454-898d-2f4bf9d19ade",
   "metadata": {},
   "outputs": [
    {
     "data": {
      "text/plain": [
       "array([16.])"
      ]
     },
     "execution_count": 23,
     "metadata": {},
     "output_type": "execute_result"
    }
   ],
   "source": [
    "reg.predict(np.array([[3, 5]]))\n"
   ]
  },
  {
   "cell_type": "markdown",
   "id": "2bcb1730-5b70-41e4-a3f8-4ee7dc94ca2d",
   "metadata": {},
   "source": [
    "### Key Takeaways\n",
    "Linear regression finds the best-fit line (or plane, in multiple dimensions) through the data.\n",
    "\n",
    "You can use .coef_ and .intercept_ to see what the model learned.\n",
    "\n",
    ".score() gives an accuracy measure based on R².\n",
    "\n",
    "This example shows a perfect fit because we generated the data from the exact equation."
   ]
  }
 ],
 "metadata": {
  "kernelspec": {
   "display_name": "Python 3 (ipykernel)",
   "language": "python",
   "name": "python3"
  },
  "language_info": {
   "codemirror_mode": {
    "name": "ipython",
    "version": 3
   },
   "file_extension": ".py",
   "mimetype": "text/x-python",
   "name": "python",
   "nbconvert_exporter": "python",
   "pygments_lexer": "ipython3",
   "version": "3.12.4"
  }
 },
 "nbformat": 4,
 "nbformat_minor": 5
}
